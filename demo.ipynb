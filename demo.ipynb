{
 "cells": [
  {
   "cell_type": "code",
   "execution_count": 1,
   "metadata": {},
   "outputs": [],
   "source": [
    "from sensor.utils.main_utils import read_yaml_file"
   ]
  },
  {
   "cell_type": "code",
   "execution_count": 5,
   "metadata": {},
   "outputs": [],
   "source": [
    "file_path = \"config\\schema.yaml\""
   ]
  },
  {
   "cell_type": "code",
   "execution_count": 7,
   "metadata": {},
   "outputs": [],
   "source": [
    "schema_config = read_yaml_file(file_path=file_path)"
   ]
  },
  {
   "cell_type": "code",
   "execution_count": 8,
   "metadata": {},
   "outputs": [
    {
     "data": {
      "text/plain": [
       "[{'class': 'category'},\n",
       " {'aa_000': 'int'},\n",
       " {'ac_000': 'int'},\n",
       " {'ad_000': 'int'},\n",
       " {'ae_000': 'int'},\n",
       " {'af_000': 'int'},\n",
       " {'ag_000': 'int'},\n",
       " {'ag_001': 'int'},\n",
       " {'ag_002': 'int'},\n",
       " {'ag_003': 'int'},\n",
       " {'ag_004': 'int'},\n",
       " {'ag_005': 'int'},\n",
       " {'ag_006': 'int'},\n",
       " {'ag_007': 'int'},\n",
       " {'ag_008': 'int'},\n",
       " {'ag_009': 'int'},\n",
       " {'ah_000': 'int'},\n",
       " {'ai_000': 'int'},\n",
       " {'aj_000': 'int'},\n",
       " {'ak_000': 'int'},\n",
       " {'al_000': 'int'},\n",
       " {'am_0': 'int'},\n",
       " {'an_000': 'int'},\n",
       " {'ao_000': 'int'},\n",
       " {'ap_000': 'int'},\n",
       " {'aq_000': 'int'},\n",
       " {'ar_000': 'int'},\n",
       " {'as_000': 'int'},\n",
       " {'at_000': 'int'},\n",
       " {'au_000': 'int'},\n",
       " {'av_000': 'int'},\n",
       " {'ax_000': 'int'},\n",
       " {'ay_000': 'int'},\n",
       " {'ay_001': 'int'},\n",
       " {'ay_002': 'int'},\n",
       " {'ay_003': 'int'},\n",
       " {'ay_004': 'int'},\n",
       " {'ay_005': 'int'},\n",
       " {'ay_006': 'int'},\n",
       " {'ay_007': 'int'},\n",
       " {'ay_008': 'int'},\n",
       " {'ay_009': 'int'},\n",
       " {'az_000': 'int'},\n",
       " {'az_001': 'int'},\n",
       " {'az_002': 'int'},\n",
       " {'az_003': 'int'},\n",
       " {'az_004': 'int'},\n",
       " {'az_005': 'int'},\n",
       " {'az_006': 'int'},\n",
       " {'az_007': 'int'},\n",
       " {'az_008': 'int'},\n",
       " {'az_009': 'int'},\n",
       " {'ba_000': 'int'},\n",
       " {'ba_001': 'int'},\n",
       " {'ba_002': 'int'},\n",
       " {'ba_003': 'int'},\n",
       " {'ba_004': 'int'},\n",
       " {'ba_005': 'int'},\n",
       " {'ba_006': 'int'},\n",
       " {'ba_007': 'int'},\n",
       " {'ba_008': 'int'},\n",
       " {'ba_009': 'int'},\n",
       " {'bb_000': 'int'},\n",
       " {'bc_000': 'int'},\n",
       " {'bd_000': 'int'},\n",
       " {'be_000': 'int'},\n",
       " {'bf_000': 'int'},\n",
       " {'bg_000': 'int'},\n",
       " {'bh_000': 'int'},\n",
       " {'bi_000': 'int'},\n",
       " {'bj_000': 'int'},\n",
       " {'bk_000': 'int'},\n",
       " {'bl_000': 'int'},\n",
       " {'bm_000': 'int'},\n",
       " {'bs_000': 'int'},\n",
       " {'bt_000': 'int'},\n",
       " {'bu_000': 'int'},\n",
       " {'bv_000': 'int'},\n",
       " {'bx_000': 'int'},\n",
       " {'by_000': 'int'},\n",
       " {'bz_000': 'int'},\n",
       " {'ca_000': 'int'},\n",
       " {'cb_000': 'int'},\n",
       " {'cc_000': 'int'},\n",
       " {'cd_000': 'int'},\n",
       " {'ce_000': 'int'},\n",
       " {'cf_000': 'int'},\n",
       " {'cg_000': 'int'},\n",
       " {'ch_000': 'int'},\n",
       " {'ci_000': 'int'},\n",
       " {'cj_000': 'int'},\n",
       " {'ck_000': 'int'},\n",
       " {'cl_000': 'int'},\n",
       " {'cm_000': 'int'},\n",
       " {'cn_000': 'int'},\n",
       " {'cn_001': 'int'},\n",
       " {'cn_002': 'int'},\n",
       " {'cn_003': 'int'},\n",
       " {'cn_004': 'int'},\n",
       " {'cn_005': 'int'},\n",
       " {'cn_006': 'int'},\n",
       " {'cn_007': 'int'},\n",
       " {'cn_008': 'int'},\n",
       " {'cn_009': 'int'},\n",
       " {'co_000': 'int'},\n",
       " {'cp_000': 'int'},\n",
       " {'cq_000': 'int'},\n",
       " {'cs_000': 'int'},\n",
       " {'cs_001': 'int'},\n",
       " {'cs_002': 'int'},\n",
       " {'cs_003': 'int'},\n",
       " {'cs_004': 'int'},\n",
       " {'cs_005': 'int'},\n",
       " {'cs_006': 'int'},\n",
       " {'cs_007': 'int'},\n",
       " {'cs_008': 'int'},\n",
       " {'cs_009': 'int'},\n",
       " {'ct_000': 'int'},\n",
       " {'cu_000': 'int'},\n",
       " {'cv_000': 'int'},\n",
       " {'cx_000': 'int'},\n",
       " {'cy_000': 'int'},\n",
       " {'cz_000': 'int'},\n",
       " {'da_000': 'int'},\n",
       " {'db_000': 'int'},\n",
       " {'dc_000': 'int'},\n",
       " {'dd_000': 'int'},\n",
       " {'de_000': 'int'},\n",
       " {'df_000': 'int'},\n",
       " {'dg_000': 'int'},\n",
       " {'dh_000': 'int'},\n",
       " {'di_000': 'int'},\n",
       " {'dj_000': 'int'},\n",
       " {'dk_000': 'int'},\n",
       " {'dl_000': 'int'},\n",
       " {'dm_000': 'int'},\n",
       " {'dn_000': 'int'},\n",
       " {'do_000': 'int'},\n",
       " {'dp_000': 'int'},\n",
       " {'dq_000': 'int'},\n",
       " {'dr_000': 'int'},\n",
       " {'ds_000': 'int'},\n",
       " {'dt_000': 'int'},\n",
       " {'du_000': 'int'},\n",
       " {'dv_000': 'int'},\n",
       " {'dx_000': 'int'},\n",
       " {'dy_000': 'int'},\n",
       " {'dz_000': 'int'},\n",
       " {'ea_000': 'int'},\n",
       " {'eb_000': 'int'},\n",
       " {'ec_00': 'int'},\n",
       " {'ed_000': 'int'},\n",
       " {'ee_000': 'int'},\n",
       " {'ee_001': 'int'},\n",
       " {'ee_002': 'int'},\n",
       " {'ee_003': 'int'},\n",
       " {'ee_004': 'int'},\n",
       " {'ee_005': 'int'},\n",
       " {'ee_006': 'int'},\n",
       " {'ee_007': 'int'},\n",
       " {'ee_008': 'int'},\n",
       " {'ee_009': 'int'},\n",
       " {'ef_000': 'int'},\n",
       " {'eg_000': 'int'}]"
      ]
     },
     "execution_count": 8,
     "metadata": {},
     "output_type": "execute_result"
    }
   ],
   "source": [
    "schema_config['columns']"
   ]
  },
  {
   "cell_type": "code",
   "execution_count": 10,
   "metadata": {},
   "outputs": [
    {
     "data": {
      "text/plain": [
       "164"
      ]
     },
     "execution_count": 10,
     "metadata": {},
     "output_type": "execute_result"
    }
   ],
   "source": [
    "len(schema_config['columns'])"
   ]
  },
  {
   "cell_type": "code",
   "execution_count": 12,
   "metadata": {},
   "outputs": [],
   "source": [
    "#len(schema_config['columns']) == len(df.columns)"
   ]
  },
  {
   "cell_type": "code",
   "execution_count": 13,
   "metadata": {},
   "outputs": [],
   "source": [
    "from scipy.stats import ks_2samp"
   ]
  },
  {
   "cell_type": "code",
   "execution_count": 14,
   "metadata": {},
   "outputs": [],
   "source": [
    "import numpy as np"
   ]
  },
  {
   "cell_type": "code",
   "execution_count": 19,
   "metadata": {},
   "outputs": [],
   "source": [
    "d1 = np.arange(100,200)\n",
    "d2 = np.arange(10)"
   ]
  },
  {
   "cell_type": "code",
   "execution_count": 20,
   "metadata": {},
   "outputs": [
    {
     "data": {
      "text/plain": [
       "array([100, 101, 102, 103, 104, 105, 106, 107, 108, 109, 110, 111, 112,\n",
       "       113, 114, 115, 116, 117, 118, 119, 120, 121, 122, 123, 124, 125,\n",
       "       126, 127, 128, 129, 130, 131, 132, 133, 134, 135, 136, 137, 138,\n",
       "       139, 140, 141, 142, 143, 144, 145, 146, 147, 148, 149, 150, 151,\n",
       "       152, 153, 154, 155, 156, 157, 158, 159, 160, 161, 162, 163, 164,\n",
       "       165, 166, 167, 168, 169, 170, 171, 172, 173, 174, 175, 176, 177,\n",
       "       178, 179, 180, 181, 182, 183, 184, 185, 186, 187, 188, 189, 190,\n",
       "       191, 192, 193, 194, 195, 196, 197, 198, 199])"
      ]
     },
     "execution_count": 20,
     "metadata": {},
     "output_type": "execute_result"
    }
   ],
   "source": [
    "d1"
   ]
  },
  {
   "cell_type": "code",
   "execution_count": 21,
   "metadata": {},
   "outputs": [
    {
     "data": {
      "text/plain": [
       "array([0, 1, 2, 3, 4, 5, 6, 7, 8, 9])"
      ]
     },
     "execution_count": 21,
     "metadata": {},
     "output_type": "execute_result"
    }
   ],
   "source": [
    "d2"
   ]
  },
  {
   "cell_type": "code",
   "execution_count": 23,
   "metadata": {},
   "outputs": [],
   "source": [
    "test = ks_2samp(d1, d2)"
   ]
  },
  {
   "cell_type": "code",
   "execution_count": 25,
   "metadata": {},
   "outputs": [
    {
     "data": {
      "text/plain": [
       "0"
      ]
     },
     "execution_count": 25,
     "metadata": {},
     "output_type": "execute_result"
    }
   ],
   "source": [
    "round(test.pvalue)"
   ]
  },
  {
   "cell_type": "code",
   "execution_count": 42,
   "metadata": {},
   "outputs": [],
   "source": [
    "training_file_path = \"artifact/01_13_2023_15_41_36/data_ingestion/ingested/train.csv\""
   ]
  },
  {
   "cell_type": "code",
   "execution_count": 43,
   "metadata": {},
   "outputs": [],
   "source": [
    "test_file_path = \"artifact/01_13_2023_15_41_36/data_ingestion/ingested/test.csv\""
   ]
  },
  {
   "cell_type": "code",
   "execution_count": 44,
   "metadata": {},
   "outputs": [],
   "source": [
    "import pandas as pd"
   ]
  },
  {
   "cell_type": "code",
   "execution_count": 45,
   "metadata": {},
   "outputs": [],
   "source": [
    "train_df = pd.read_csv(training_file_path)\n",
    "test_df = pd.read_csv(test_file_path)"
   ]
  },
  {
   "cell_type": "code",
   "execution_count": 46,
   "metadata": {},
   "outputs": [
    {
     "data": {
      "text/plain": [
       "Index(['class', 'aa_000', 'ab_000', 'ac_000', 'ad_000', 'ae_000', 'af_000',\n",
       "       'ag_000', 'ag_001', 'ag_002',\n",
       "       ...\n",
       "       'ee_002', 'ee_003', 'ee_004', 'ee_005', 'ee_006', 'ee_007', 'ee_008',\n",
       "       'ee_009', 'ef_000', 'eg_000'],\n",
       "      dtype='object', length=171)"
      ]
     },
     "execution_count": 46,
     "metadata": {},
     "output_type": "execute_result"
    }
   ],
   "source": [
    "train_df.columns"
   ]
  },
  {
   "cell_type": "code",
   "execution_count": 47,
   "metadata": {},
   "outputs": [
    {
     "data": {
      "text/plain": [
       "Index(['class', 'aa_000', 'ab_000', 'ac_000', 'ad_000', 'ae_000', 'af_000',\n",
       "       'ag_000', 'ag_001', 'ag_002',\n",
       "       ...\n",
       "       'ee_002', 'ee_003', 'ee_004', 'ee_005', 'ee_006', 'ee_007', 'ee_008',\n",
       "       'ee_009', 'ef_000', 'eg_000'],\n",
       "      dtype='object', length=171)"
      ]
     },
     "execution_count": 47,
     "metadata": {},
     "output_type": "execute_result"
    }
   ],
   "source": [
    "test_df.columns"
   ]
  },
  {
   "cell_type": "code",
   "execution_count": 49,
   "metadata": {},
   "outputs": [],
   "source": [
    "d1 = train_df['aa_000']\n",
    "d2 = test_df['aa_000']"
   ]
  },
  {
   "cell_type": "code",
   "execution_count": 50,
   "metadata": {},
   "outputs": [
    {
     "data": {
      "text/plain": [
       "KstestResult(statistic=0.010718530725145226, pvalue=0.5155117370482368, statistic_location=82, statistic_sign=1)"
      ]
     },
     "execution_count": 50,
     "metadata": {},
     "output_type": "execute_result"
    }
   ],
   "source": [
    "ks_2samp(d1, d2)"
   ]
  },
  {
   "cell_type": "code",
   "execution_count": null,
   "metadata": {},
   "outputs": [],
   "source": []
  },
  {
   "cell_type": "code",
   "execution_count": null,
   "metadata": {},
   "outputs": [],
   "source": []
  }
 ],
 "metadata": {
  "kernelspec": {
   "display_name": "Python 3",
   "language": "python",
   "name": "python3"
  },
  "language_info": {
   "codemirror_mode": {
    "name": "ipython",
    "version": 3
   },
   "file_extension": ".py",
   "mimetype": "text/x-python",
   "name": "python",
   "nbconvert_exporter": "python",
   "pygments_lexer": "ipython3",
   "version": "3.8.15"
  },
  "orig_nbformat": 4,
  "vscode": {
   "interpreter": {
    "hash": "d720bdba254f2007f07eaebb05c0e45d246d0e823547aea78290f6e6e32f4042"
   }
  }
 },
 "nbformat": 4,
 "nbformat_minor": 2
}
