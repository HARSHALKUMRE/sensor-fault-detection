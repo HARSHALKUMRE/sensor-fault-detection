{
 "cells": [
  {
   "cell_type": "code",
   "execution_count": null,
   "metadata": {},
   "outputs": [],
   "source": [
    "from sensor.utils.main_utils import read_yaml_file"
   ]
  },
  {
   "cell_type": "code",
   "execution_count": 2,
   "metadata": {},
   "outputs": [],
   "source": [
    "file_path = \"config\\schema.yaml\""
   ]
  },
  {
   "cell_type": "code",
   "execution_count": 3,
   "metadata": {},
   "outputs": [],
   "source": [
    "schema_config = read_yaml_file(file_path=file_path)"
   ]
  },
  {
   "cell_type": "code",
   "execution_count": 4,
   "metadata": {},
   "outputs": [
    {
     "data": {
      "text/plain": [
       "[{'class': 'category'},\n",
       " {'aa_000': 'int'},\n",
       " {'ac_000': 'int'},\n",
       " {'ad_000': 'int'},\n",
       " {'ae_000': 'int'},\n",
       " {'af_000': 'int'},\n",
       " {'ag_000': 'int'},\n",
       " {'ag_001': 'int'},\n",
       " {'ag_002': 'int'},\n",
       " {'ag_003': 'int'},\n",
       " {'ag_004': 'int'},\n",
       " {'ag_005': 'int'},\n",
       " {'ag_006': 'int'},\n",
       " {'ag_007': 'int'},\n",
       " {'ag_008': 'int'},\n",
       " {'ag_009': 'int'},\n",
       " {'ah_000': 'int'},\n",
       " {'ai_000': 'int'},\n",
       " {'aj_000': 'int'},\n",
       " {'ak_000': 'int'},\n",
       " {'al_000': 'int'},\n",
       " {'am_0': 'int'},\n",
       " {'an_000': 'int'},\n",
       " {'ao_000': 'int'},\n",
       " {'ap_000': 'int'},\n",
       " {'aq_000': 'int'},\n",
       " {'ar_000': 'int'},\n",
       " {'as_000': 'int'},\n",
       " {'at_000': 'int'},\n",
       " {'au_000': 'int'},\n",
       " {'av_000': 'int'},\n",
       " {'ax_000': 'int'},\n",
       " {'ay_000': 'int'},\n",
       " {'ay_001': 'int'},\n",
       " {'ay_002': 'int'},\n",
       " {'ay_003': 'int'},\n",
       " {'ay_004': 'int'},\n",
       " {'ay_005': 'int'},\n",
       " {'ay_006': 'int'},\n",
       " {'ay_007': 'int'},\n",
       " {'ay_008': 'int'},\n",
       " {'ay_009': 'int'},\n",
       " {'az_000': 'int'},\n",
       " {'az_001': 'int'},\n",
       " {'az_002': 'int'},\n",
       " {'az_003': 'int'},\n",
       " {'az_004': 'int'},\n",
       " {'az_005': 'int'},\n",
       " {'az_006': 'int'},\n",
       " {'az_007': 'int'},\n",
       " {'az_008': 'int'},\n",
       " {'az_009': 'int'},\n",
       " {'ba_000': 'int'},\n",
       " {'ba_001': 'int'},\n",
       " {'ba_002': 'int'},\n",
       " {'ba_003': 'int'},\n",
       " {'ba_004': 'int'},\n",
       " {'ba_005': 'int'},\n",
       " {'ba_006': 'int'},\n",
       " {'ba_007': 'int'},\n",
       " {'ba_008': 'int'},\n",
       " {'ba_009': 'int'},\n",
       " {'bb_000': 'int'},\n",
       " {'bc_000': 'int'},\n",
       " {'bd_000': 'int'},\n",
       " {'be_000': 'int'},\n",
       " {'bf_000': 'int'},\n",
       " {'bg_000': 'int'},\n",
       " {'bh_000': 'int'},\n",
       " {'bi_000': 'int'},\n",
       " {'bj_000': 'int'},\n",
       " {'bk_000': 'int'},\n",
       " {'bl_000': 'int'},\n",
       " {'bm_000': 'int'},\n",
       " {'bs_000': 'int'},\n",
       " {'bt_000': 'int'},\n",
       " {'bu_000': 'int'},\n",
       " {'bv_000': 'int'},\n",
       " {'bx_000': 'int'},\n",
       " {'by_000': 'int'},\n",
       " {'bz_000': 'int'},\n",
       " {'ca_000': 'int'},\n",
       " {'cb_000': 'int'},\n",
       " {'cc_000': 'int'},\n",
       " {'cd_000': 'int'},\n",
       " {'ce_000': 'int'},\n",
       " {'cf_000': 'int'},\n",
       " {'cg_000': 'int'},\n",
       " {'ch_000': 'int'},\n",
       " {'ci_000': 'int'},\n",
       " {'cj_000': 'int'},\n",
       " {'ck_000': 'int'},\n",
       " {'cl_000': 'int'},\n",
       " {'cm_000': 'int'},\n",
       " {'cn_000': 'int'},\n",
       " {'cn_001': 'int'},\n",
       " {'cn_002': 'int'},\n",
       " {'cn_003': 'int'},\n",
       " {'cn_004': 'int'},\n",
       " {'cn_005': 'int'},\n",
       " {'cn_006': 'int'},\n",
       " {'cn_007': 'int'},\n",
       " {'cn_008': 'int'},\n",
       " {'cn_009': 'int'},\n",
       " {'co_000': 'int'},\n",
       " {'cp_000': 'int'},\n",
       " {'cq_000': 'int'},\n",
       " {'cs_000': 'int'},\n",
       " {'cs_001': 'int'},\n",
       " {'cs_002': 'int'},\n",
       " {'cs_003': 'int'},\n",
       " {'cs_004': 'int'},\n",
       " {'cs_005': 'int'},\n",
       " {'cs_006': 'int'},\n",
       " {'cs_007': 'int'},\n",
       " {'cs_008': 'int'},\n",
       " {'cs_009': 'int'},\n",
       " {'ct_000': 'int'},\n",
       " {'cu_000': 'int'},\n",
       " {'cv_000': 'int'},\n",
       " {'cx_000': 'int'},\n",
       " {'cy_000': 'int'},\n",
       " {'cz_000': 'int'},\n",
       " {'da_000': 'int'},\n",
       " {'db_000': 'int'},\n",
       " {'dc_000': 'int'},\n",
       " {'dd_000': 'int'},\n",
       " {'de_000': 'int'},\n",
       " {'df_000': 'int'},\n",
       " {'dg_000': 'int'},\n",
       " {'dh_000': 'int'},\n",
       " {'di_000': 'int'},\n",
       " {'dj_000': 'int'},\n",
       " {'dk_000': 'int'},\n",
       " {'dl_000': 'int'},\n",
       " {'dm_000': 'int'},\n",
       " {'dn_000': 'int'},\n",
       " {'do_000': 'int'},\n",
       " {'dp_000': 'int'},\n",
       " {'dq_000': 'int'},\n",
       " {'dr_000': 'int'},\n",
       " {'ds_000': 'int'},\n",
       " {'dt_000': 'int'},\n",
       " {'du_000': 'int'},\n",
       " {'dv_000': 'int'},\n",
       " {'dx_000': 'int'},\n",
       " {'dy_000': 'int'},\n",
       " {'dz_000': 'int'},\n",
       " {'ea_000': 'int'},\n",
       " {'eb_000': 'int'},\n",
       " {'ec_00': 'int'},\n",
       " {'ed_000': 'int'},\n",
       " {'ee_000': 'int'},\n",
       " {'ee_001': 'int'},\n",
       " {'ee_002': 'int'},\n",
       " {'ee_003': 'int'},\n",
       " {'ee_004': 'int'},\n",
       " {'ee_005': 'int'},\n",
       " {'ee_006': 'int'},\n",
       " {'ee_007': 'int'},\n",
       " {'ee_008': 'int'},\n",
       " {'ee_009': 'int'},\n",
       " {'ef_000': 'int'},\n",
       " {'eg_000': 'int'}]"
      ]
     },
     "execution_count": 4,
     "metadata": {},
     "output_type": "execute_result"
    }
   ],
   "source": [
    "schema_config['columns']"
   ]
  },
  {
   "cell_type": "code",
   "execution_count": 5,
   "metadata": {},
   "outputs": [
    {
     "data": {
      "text/plain": [
       "164"
      ]
     },
     "execution_count": 5,
     "metadata": {},
     "output_type": "execute_result"
    }
   ],
   "source": [
    "len(schema_config['columns'])"
   ]
  },
  {
   "cell_type": "code",
   "execution_count": 6,
   "metadata": {},
   "outputs": [],
   "source": [
    "#len(schema_config['columns']) == len(df.columns)"
   ]
  },
  {
   "cell_type": "code",
   "execution_count": 7,
   "metadata": {},
   "outputs": [],
   "source": [
    "from scipy.stats import ks_2samp"
   ]
  },
  {
   "cell_type": "code",
   "execution_count": 8,
   "metadata": {},
   "outputs": [],
   "source": [
    "import numpy as np"
   ]
  },
  {
   "cell_type": "code",
   "execution_count": 9,
   "metadata": {},
   "outputs": [],
   "source": [
    "d1 = np.arange(100,200)\n",
    "d2 = np.arange(10)"
   ]
  },
  {
   "cell_type": "code",
   "execution_count": 10,
   "metadata": {},
   "outputs": [
    {
     "data": {
      "text/plain": [
       "array([100, 101, 102, 103, 104, 105, 106, 107, 108, 109, 110, 111, 112,\n",
       "       113, 114, 115, 116, 117, 118, 119, 120, 121, 122, 123, 124, 125,\n",
       "       126, 127, 128, 129, 130, 131, 132, 133, 134, 135, 136, 137, 138,\n",
       "       139, 140, 141, 142, 143, 144, 145, 146, 147, 148, 149, 150, 151,\n",
       "       152, 153, 154, 155, 156, 157, 158, 159, 160, 161, 162, 163, 164,\n",
       "       165, 166, 167, 168, 169, 170, 171, 172, 173, 174, 175, 176, 177,\n",
       "       178, 179, 180, 181, 182, 183, 184, 185, 186, 187, 188, 189, 190,\n",
       "       191, 192, 193, 194, 195, 196, 197, 198, 199])"
      ]
     },
     "execution_count": 10,
     "metadata": {},
     "output_type": "execute_result"
    }
   ],
   "source": [
    "d1"
   ]
  },
  {
   "cell_type": "code",
   "execution_count": 11,
   "metadata": {},
   "outputs": [
    {
     "data": {
      "text/plain": [
       "array([0, 1, 2, 3, 4, 5, 6, 7, 8, 9])"
      ]
     },
     "execution_count": 11,
     "metadata": {},
     "output_type": "execute_result"
    }
   ],
   "source": [
    "d2"
   ]
  },
  {
   "cell_type": "code",
   "execution_count": 12,
   "metadata": {},
   "outputs": [],
   "source": [
    "test = ks_2samp(d1, d2)"
   ]
  },
  {
   "cell_type": "code",
   "execution_count": 13,
   "metadata": {},
   "outputs": [
    {
     "data": {
      "text/plain": [
       "0"
      ]
     },
     "execution_count": 13,
     "metadata": {},
     "output_type": "execute_result"
    }
   ],
   "source": [
    "round(test.pvalue)"
   ]
  },
  {
   "cell_type": "code",
   "execution_count": 14,
   "metadata": {},
   "outputs": [],
   "source": [
    "training_file_path = \"artifact/01_13_2023_15_41_36/data_ingestion/ingested/train.csv\""
   ]
  },
  {
   "cell_type": "code",
   "execution_count": 15,
   "metadata": {},
   "outputs": [],
   "source": [
    "test_file_path = \"artifact/01_13_2023_15_41_36/data_ingestion/ingested/test.csv\""
   ]
  },
  {
   "cell_type": "code",
   "execution_count": 16,
   "metadata": {},
   "outputs": [],
   "source": [
    "import pandas as pd"
   ]
  },
  {
   "cell_type": "code",
   "execution_count": 17,
   "metadata": {},
   "outputs": [],
   "source": [
    "train_df = pd.read_csv(training_file_path)\n",
    "test_df = pd.read_csv(test_file_path)"
   ]
  },
  {
   "cell_type": "code",
   "execution_count": 18,
   "metadata": {},
   "outputs": [
    {
     "data": {
      "text/plain": [
       "Index(['class', 'aa_000', 'ab_000', 'ac_000', 'ad_000', 'ae_000', 'af_000',\n",
       "       'ag_000', 'ag_001', 'ag_002',\n",
       "       ...\n",
       "       'ee_002', 'ee_003', 'ee_004', 'ee_005', 'ee_006', 'ee_007', 'ee_008',\n",
       "       'ee_009', 'ef_000', 'eg_000'],\n",
       "      dtype='object', length=171)"
      ]
     },
     "execution_count": 18,
     "metadata": {},
     "output_type": "execute_result"
    }
   ],
   "source": [
    "train_df.columns"
   ]
  },
  {
   "cell_type": "code",
   "execution_count": 19,
   "metadata": {},
   "outputs": [
    {
     "data": {
      "text/plain": [
       "Index(['class', 'aa_000', 'ab_000', 'ac_000', 'ad_000', 'ae_000', 'af_000',\n",
       "       'ag_000', 'ag_001', 'ag_002',\n",
       "       ...\n",
       "       'ee_002', 'ee_003', 'ee_004', 'ee_005', 'ee_006', 'ee_007', 'ee_008',\n",
       "       'ee_009', 'ef_000', 'eg_000'],\n",
       "      dtype='object', length=171)"
      ]
     },
     "execution_count": 19,
     "metadata": {},
     "output_type": "execute_result"
    }
   ],
   "source": [
    "test_df.columns"
   ]
  },
  {
   "cell_type": "code",
   "execution_count": 20,
   "metadata": {},
   "outputs": [],
   "source": [
    "d1 = train_df['aa_000']\n",
    "d2 = test_df['aa_000']"
   ]
  },
  {
   "cell_type": "code",
   "execution_count": 21,
   "metadata": {},
   "outputs": [
    {
     "data": {
      "text/plain": [
       "KstestResult(statistic=0.010718530725145226, pvalue=0.5155117370482368, statistic_location=82, statistic_sign=1)"
      ]
     },
     "execution_count": 21,
     "metadata": {},
     "output_type": "execute_result"
    }
   ],
   "source": [
    "ks_2samp(d1, d2)"
   ]
  },
  {
   "cell_type": "code",
   "execution_count": 22,
   "metadata": {},
   "outputs": [
    {
     "data": {
      "text/plain": [
       "KstestResult(statistic=0.0015524093001769712, pvalue=1.0, statistic_location='neg', statistic_sign=1)"
      ]
     },
     "execution_count": 22,
     "metadata": {},
     "output_type": "execute_result"
    }
   ],
   "source": [
    "d1 = train_df['class']\n",
    "d2 = test_df['class']\n",
    "ks_2samp(d1,d2)"
   ]
  },
  {
   "cell_type": "code",
   "execution_count": 34,
   "metadata": {},
   "outputs": [],
   "source": [
    "# Lets create a function to detect the data drift\n",
    "def get_drift_report(base_df, current_df, threshold=0.5):\n",
    "    report = {}\n",
    "    for column in base_df.columns:\n",
    "        d1 = base_df[column]\n",
    "        d2 = current_df[column]\n",
    "        is_same_dist = ks_2samp(d1,d2)\n",
    "        if threshold<=is_same_dist.pvalue:\n",
    "            is_found = False\n",
    "        else:\n",
    "            is_found = True\n",
    "        report.update({column:{\n",
    "                \"p_value\":float(is_same_dist.pvalue),\n",
    "                \"drift_status\":is_found\n",
    "            }})\n",
    "    return report"
   ]
  },
  {
   "cell_type": "code",
   "execution_count": 35,
   "metadata": {},
   "outputs": [],
   "source": [
    "drift_report = get_drift_report(train_df, test_df)"
   ]
  },
  {
   "cell_type": "code",
   "execution_count": 36,
   "metadata": {},
   "outputs": [
    {
     "data": {
      "text/plain": [
       "{'class': {'p_value': 1.0, 'drift_status': False},\n",
       " 'aa_000': {'p_value': 0.5155117370482368, 'drift_status': False},\n",
       " 'ab_000': {'p_value': 0.6143499735483806, 'drift_status': False},\n",
       " 'ac_000': {'p_value': 0.6343551055030613, 'drift_status': False},\n",
       " 'ad_000': {'p_value': 0.4850663249061169, 'drift_status': True},\n",
       " 'ae_000': {'p_value': 0.9999999999999994, 'drift_status': False},\n",
       " 'af_000': {'p_value': 0.9999999960549787, 'drift_status': False},\n",
       " 'ag_000': {'p_value': 1.0, 'drift_status': False},\n",
       " 'ag_001': {'p_value': 0.9999968254822542, 'drift_status': False},\n",
       " 'ag_002': {'p_value': 0.9941161947158469, 'drift_status': False},\n",
       " 'ag_003': {'p_value': 0.9997263208497175, 'drift_status': False},\n",
       " 'ag_004': {'p_value': 0.38763962689717557, 'drift_status': True},\n",
       " 'ag_005': {'p_value': 0.7746610742664539, 'drift_status': False},\n",
       " 'ag_006': {'p_value': 0.30240975695371086, 'drift_status': True},\n",
       " 'ag_007': {'p_value': 0.381488109197744, 'drift_status': True},\n",
       " 'ag_008': {'p_value': 0.14121896584629723, 'drift_status': True},\n",
       " 'ag_009': {'p_value': 0.3410789205752618, 'drift_status': True},\n",
       " 'ah_000': {'p_value': 0.5367142526154043, 'drift_status': False},\n",
       " 'ai_000': {'p_value': 0.970570701052259, 'drift_status': False},\n",
       " 'aj_000': {'p_value': 0.47732416015183443, 'drift_status': True},\n",
       " 'ak_000': {'p_value': 0.9999999999998467, 'drift_status': False},\n",
       " 'al_000': {'p_value': 0.9974496195333556, 'drift_status': False},\n",
       " 'am_0': {'p_value': 0.9904116488873455, 'drift_status': False},\n",
       " 'an_000': {'p_value': 0.6854466151210583, 'drift_status': False},\n",
       " 'ao_000': {'p_value': 0.6717108046643674, 'drift_status': False},\n",
       " 'ap_000': {'p_value': 0.3595534216877625, 'drift_status': True},\n",
       " 'aq_000': {'p_value': 0.1378308882927224, 'drift_status': True},\n",
       " 'ar_000': {'p_value': 1.0, 'drift_status': False},\n",
       " 'as_000': {'p_value': 1.0, 'drift_status': False},\n",
       " 'at_000': {'p_value': 0.9986686072637911, 'drift_status': False},\n",
       " 'au_000': {'p_value': 1.0, 'drift_status': False},\n",
       " 'av_000': {'p_value': 0.3689550538179376, 'drift_status': True},\n",
       " 'ax_000': {'p_value': 0.41017341766793647, 'drift_status': True},\n",
       " 'ay_000': {'p_value': 0.9999999984563392, 'drift_status': False},\n",
       " 'ay_001': {'p_value': 0.9999999999999998, 'drift_status': False},\n",
       " 'ay_002': {'p_value': 1.0, 'drift_status': False},\n",
       " 'ay_003': {'p_value': 1.0, 'drift_status': False},\n",
       " 'ay_004': {'p_value': 0.9999999975349242, 'drift_status': False},\n",
       " 'ay_005': {'p_value': 0.8890743838290205, 'drift_status': False},\n",
       " 'ay_006': {'p_value': 0.4951280550450069, 'drift_status': True},\n",
       " 'ay_007': {'p_value': 0.49270657281316266, 'drift_status': True},\n",
       " 'ay_008': {'p_value': 0.8237229229084353, 'drift_status': False},\n",
       " 'ay_009': {'p_value': 0.9999999249423271, 'drift_status': False},\n",
       " 'az_000': {'p_value': 0.7306798386942548, 'drift_status': False},\n",
       " 'az_001': {'p_value': 0.37161841412245933, 'drift_status': True},\n",
       " 'az_002': {'p_value': 0.46972716712364315, 'drift_status': True},\n",
       " 'az_003': {'p_value': 0.5273596984992923, 'drift_status': False},\n",
       " 'az_004': {'p_value': 0.6986570077685164, 'drift_status': False},\n",
       " 'az_005': {'p_value': 0.583679147520484, 'drift_status': False},\n",
       " 'az_006': {'p_value': 0.7816207793160386, 'drift_status': False},\n",
       " 'az_007': {'p_value': 0.9757129622468946, 'drift_status': False},\n",
       " 'az_008': {'p_value': 0.9996620378631746, 'drift_status': False},\n",
       " 'az_009': {'p_value': 0.9999999959585836, 'drift_status': False},\n",
       " 'ba_000': {'p_value': 0.717260989825143, 'drift_status': False},\n",
       " 'ba_001': {'p_value': 0.29970530739027845, 'drift_status': True},\n",
       " 'ba_002': {'p_value': 0.5319681938143026, 'drift_status': False},\n",
       " 'ba_003': {'p_value': 0.7671704162405365, 'drift_status': False},\n",
       " 'ba_004': {'p_value': 0.8973110021035018, 'drift_status': False},\n",
       " 'ba_005': {'p_value': 0.8946964186439188, 'drift_status': False},\n",
       " 'ba_006': {'p_value': 0.9585456090819297, 'drift_status': False},\n",
       " 'ba_007': {'p_value': 0.879012330031469, 'drift_status': False},\n",
       " 'ba_008': {'p_value': 0.34428812026067845, 'drift_status': True},\n",
       " 'ba_009': {'p_value': 0.6711663589852249, 'drift_status': False},\n",
       " 'bb_000': {'p_value': 0.404523133419758, 'drift_status': True},\n",
       " 'bc_000': {'p_value': 0.4106068833883272, 'drift_status': True},\n",
       " 'bd_000': {'p_value': 0.5516423399960593, 'drift_status': False},\n",
       " 'be_000': {'p_value': 0.4152133593673908, 'drift_status': True},\n",
       " 'bf_000': {'p_value': 0.9999019107975722, 'drift_status': False},\n",
       " 'bg_000': {'p_value': 0.5754724159280666, 'drift_status': False},\n",
       " 'bh_000': {'p_value': 0.3626280169705326, 'drift_status': True},\n",
       " 'bi_000': {'p_value': 0.43418257125827986, 'drift_status': True},\n",
       " 'bj_000': {'p_value': 0.2120523967357355, 'drift_status': True},\n",
       " 'bk_000': {'p_value': 0.33152979617641487, 'drift_status': True},\n",
       " 'bl_000': {'p_value': 0.9810622651558218, 'drift_status': False},\n",
       " 'bm_000': {'p_value': 0.30597380771169946, 'drift_status': True},\n",
       " 'bn_000': {'p_value': 0.43751695159601256, 'drift_status': True},\n",
       " 'bo_000': {'p_value': 0.9139222775533029, 'drift_status': False},\n",
       " 'bp_000': {'p_value': 0.9997882695894414, 'drift_status': False},\n",
       " 'bq_000': {'p_value': 0.9945481631880503, 'drift_status': False},\n",
       " 'br_000': {'p_value': 0.9632555983663346, 'drift_status': False},\n",
       " 'bs_000': {'p_value': 0.5830382625831572, 'drift_status': False},\n",
       " 'bt_000': {'p_value': 0.5972486093154785, 'drift_status': False},\n",
       " 'bu_000': {'p_value': 0.4424487027991899, 'drift_status': True},\n",
       " 'bv_000': {'p_value': 0.4424487027991899, 'drift_status': True},\n",
       " 'bx_000': {'p_value': 0.46650320319653904, 'drift_status': True},\n",
       " 'by_000': {'p_value': 0.4901128750947834, 'drift_status': True},\n",
       " 'bz_000': {'p_value': 0.2369538973381421, 'drift_status': True},\n",
       " 'ca_000': {'p_value': 0.24608799489042754, 'drift_status': True},\n",
       " 'cb_000': {'p_value': 0.5191927565135741, 'drift_status': False},\n",
       " 'cc_000': {'p_value': 0.7074909841293104, 'drift_status': False},\n",
       " 'cd_000': {'p_value': 1.0, 'drift_status': False},\n",
       " 'ce_000': {'p_value': 0.59159850664796, 'drift_status': False},\n",
       " 'cf_000': {'p_value': 0.9939165764001989, 'drift_status': False},\n",
       " 'cg_000': {'p_value': 0.8856280366992806, 'drift_status': False},\n",
       " 'ch_000': {'p_value': 1.0, 'drift_status': False},\n",
       " 'ci_000': {'p_value': 0.39377450170906414, 'drift_status': True},\n",
       " 'cj_000': {'p_value': 0.9997452304429689, 'drift_status': False},\n",
       " 'ck_000': {'p_value': 0.6015703460158497, 'drift_status': False},\n",
       " 'cl_000': {'p_value': 0.6588641988511892, 'drift_status': False},\n",
       " 'cm_000': {'p_value': 0.864504488167957, 'drift_status': False},\n",
       " 'cn_000': {'p_value': 0.9994359226534211, 'drift_status': False},\n",
       " 'cn_001': {'p_value': 0.9987159310727466, 'drift_status': False},\n",
       " 'cn_002': {'p_value': 0.8695016925539686, 'drift_status': False},\n",
       " 'cn_003': {'p_value': 0.634828775788773, 'drift_status': False},\n",
       " 'cn_004': {'p_value': 0.6532889387700614, 'drift_status': False},\n",
       " 'cn_005': {'p_value': 0.6487865227764134, 'drift_status': False},\n",
       " 'cn_006': {'p_value': 0.7793466819859967, 'drift_status': False},\n",
       " 'cn_007': {'p_value': 0.4431850485844494, 'drift_status': True},\n",
       " 'cn_008': {'p_value': 0.45153158975251595, 'drift_status': True},\n",
       " 'cn_009': {'p_value': 0.6609158515615148, 'drift_status': False},\n",
       " 'co_000': {'p_value': 0.8981599297419849, 'drift_status': False},\n",
       " 'cp_000': {'p_value': 0.6376590594006486, 'drift_status': False},\n",
       " 'cq_000': {'p_value': 0.4424487027991899, 'drift_status': True},\n",
       " 'cr_000': {'p_value': 0.6275005357793381, 'drift_status': False},\n",
       " 'cs_000': {'p_value': 0.967524726699337, 'drift_status': False},\n",
       " 'cs_001': {'p_value': 0.9426633078986797, 'drift_status': False},\n",
       " 'cs_002': {'p_value': 0.33106425038568266, 'drift_status': True},\n",
       " 'cs_003': {'p_value': 0.5450804638091087, 'drift_status': False},\n",
       " 'cs_004': {'p_value': 0.8088157857932935, 'drift_status': False},\n",
       " 'cs_005': {'p_value': 0.6593296690783865, 'drift_status': False},\n",
       " 'cs_006': {'p_value': 0.7813755191702884, 'drift_status': False},\n",
       " 'cs_007': {'p_value': 0.49631237613612644, 'drift_status': True},\n",
       " 'cs_008': {'p_value': 0.9975315486524569, 'drift_status': False},\n",
       " 'cs_009': {'p_value': 1.0, 'drift_status': False},\n",
       " 'ct_000': {'p_value': 0.16973045514152751, 'drift_status': True},\n",
       " 'cu_000': {'p_value': 0.6675169580320945, 'drift_status': False},\n",
       " 'cv_000': {'p_value': 0.9282783576419642, 'drift_status': False},\n",
       " 'cx_000': {'p_value': 0.5977425170222195, 'drift_status': False},\n",
       " 'cy_000': {'p_value': 0.9999990739396718, 'drift_status': False},\n",
       " 'cz_000': {'p_value': 0.9526905805255987, 'drift_status': False},\n",
       " 'da_000': {'p_value': 0.9999999979925124, 'drift_status': False},\n",
       " 'db_000': {'p_value': 0.999852193969718, 'drift_status': False},\n",
       " 'dc_000': {'p_value': 0.9178138251047103, 'drift_status': False},\n",
       " 'dd_000': {'p_value': 0.6454163690621815, 'drift_status': False},\n",
       " 'de_000': {'p_value': 0.9354723501315005, 'drift_status': False},\n",
       " 'df_000': {'p_value': 1.0, 'drift_status': False},\n",
       " 'dg_000': {'p_value': 1.0, 'drift_status': False},\n",
       " 'dh_000': {'p_value': 0.999999996163665, 'drift_status': False},\n",
       " 'di_000': {'p_value': 0.9999478940790232, 'drift_status': False},\n",
       " 'dj_000': {'p_value': 1.0, 'drift_status': False},\n",
       " 'dk_000': {'p_value': 1.0, 'drift_status': False},\n",
       " 'dl_000': {'p_value': 1.0, 'drift_status': False},\n",
       " 'dm_000': {'p_value': 1.0, 'drift_status': False},\n",
       " 'dn_000': {'p_value': 0.4050123073097849, 'drift_status': True},\n",
       " 'do_000': {'p_value': 0.9364389718381414, 'drift_status': False},\n",
       " 'dp_000': {'p_value': 0.919675023251338, 'drift_status': False},\n",
       " 'dq_000': {'p_value': 0.941853071572191, 'drift_status': False},\n",
       " 'dr_000': {'p_value': 0.9871798047741193, 'drift_status': False},\n",
       " 'ds_000': {'p_value': 0.5066618408802824, 'drift_status': False},\n",
       " 'dt_000': {'p_value': 0.38244137855847815, 'drift_status': True},\n",
       " 'du_000': {'p_value': 0.25899963671927073, 'drift_status': True},\n",
       " 'dv_000': {'p_value': 0.2880890583720911, 'drift_status': True},\n",
       " 'dx_000': {'p_value': 0.9888129319635947, 'drift_status': False},\n",
       " 'dy_000': {'p_value': 0.9116172228677666, 'drift_status': False},\n",
       " 'dz_000': {'p_value': 1.0, 'drift_status': False},\n",
       " 'ea_000': {'p_value': 1.0, 'drift_status': False},\n",
       " 'eb_000': {'p_value': 0.37784944164897805, 'drift_status': True},\n",
       " 'ec_00': {'p_value': 0.7613876502091566, 'drift_status': False},\n",
       " 'ed_000': {'p_value': 0.9686478883150691, 'drift_status': False},\n",
       " 'ee_000': {'p_value': 0.5967584254619622, 'drift_status': False},\n",
       " 'ee_001': {'p_value': 0.4819739339116337, 'drift_status': True},\n",
       " 'ee_002': {'p_value': 0.34446519992338087, 'drift_status': True},\n",
       " 'ee_003': {'p_value': 0.6544736440646659, 'drift_status': False},\n",
       " 'ee_004': {'p_value': 0.6365474141237074, 'drift_status': False},\n",
       " 'ee_005': {'p_value': 0.45368839191850086, 'drift_status': True},\n",
       " 'ee_006': {'p_value': 0.8235832723779946, 'drift_status': False},\n",
       " 'ee_007': {'p_value': 0.9302020479111375, 'drift_status': False},\n",
       " 'ee_008': {'p_value': 0.5994056660583684, 'drift_status': False},\n",
       " 'ee_009': {'p_value': 0.9932514670614175, 'drift_status': False},\n",
       " 'ef_000': {'p_value': 1.0, 'drift_status': False},\n",
       " 'eg_000': {'p_value': 1.0, 'drift_status': False}}"
      ]
     },
     "execution_count": 36,
     "metadata": {},
     "output_type": "execute_result"
    }
   ],
   "source": [
    "drift_report"
   ]
  },
  {
   "cell_type": "code",
   "execution_count": 37,
   "metadata": {},
   "outputs": [],
   "source": [
    "# To create a drift report yaml file\n",
    "from sensor.utils.main_utils import write_yaml_file\n",
    "import os"
   ]
  },
  {
   "cell_type": "code",
   "execution_count": 38,
   "metadata": {},
   "outputs": [],
   "source": [
    "write_yaml_file(file_path=os.path.join(os.getcwd(),\"report.yaml\"), content=drift_report, replace=True)"
   ]
  },
  {
   "cell_type": "code",
   "execution_count": 1,
   "metadata": {},
   "outputs": [],
   "source": [
    "from sensor.ml.model.estimator import TargetValueMapping"
   ]
  },
  {
   "cell_type": "code",
   "execution_count": 3,
   "metadata": {},
   "outputs": [
    {
     "data": {
      "text/plain": [
       "{'neg': 0, 'pos': 1}"
      ]
     },
     "execution_count": 3,
     "metadata": {},
     "output_type": "execute_result"
    }
   ],
   "source": [
    "TargetValueMapping().to_dict()"
   ]
  },
  {
   "cell_type": "code",
   "execution_count": 5,
   "metadata": {},
   "outputs": [
    {
     "data": {
      "text/plain": [
       "{0: 'neg', 1: 'pos'}"
      ]
     },
     "execution_count": 5,
     "metadata": {},
     "output_type": "execute_result"
    }
   ],
   "source": [
    "TargetValueMapping().reverse_mapping()"
   ]
  },
  {
   "cell_type": "code",
   "execution_count": 2,
   "metadata": {},
   "outputs": [],
   "source": [
    "import pandas as pd"
   ]
  },
  {
   "cell_type": "code",
   "execution_count": 6,
   "metadata": {},
   "outputs": [],
   "source": [
    "df = pd.DataFrame([[1,2],[1,2]])"
   ]
  },
  {
   "cell_type": "code",
   "execution_count": 7,
   "metadata": {},
   "outputs": [
    {
     "data": {
      "text/html": [
       "<div>\n",
       "<style scoped>\n",
       "    .dataframe tbody tr th:only-of-type {\n",
       "        vertical-align: middle;\n",
       "    }\n",
       "\n",
       "    .dataframe tbody tr th {\n",
       "        vertical-align: top;\n",
       "    }\n",
       "\n",
       "    .dataframe thead th {\n",
       "        text-align: right;\n",
       "    }\n",
       "</style>\n",
       "<table border=\"1\" class=\"dataframe\">\n",
       "  <thead>\n",
       "    <tr style=\"text-align: right;\">\n",
       "      <th></th>\n",
       "      <th>0</th>\n",
       "      <th>1</th>\n",
       "    </tr>\n",
       "  </thead>\n",
       "  <tbody>\n",
       "    <tr>\n",
       "      <th>0</th>\n",
       "      <td>1</td>\n",
       "      <td>2</td>\n",
       "    </tr>\n",
       "    <tr>\n",
       "      <th>1</th>\n",
       "      <td>1</td>\n",
       "      <td>2</td>\n",
       "    </tr>\n",
       "  </tbody>\n",
       "</table>\n",
       "</div>"
      ],
      "text/plain": [
       "   0  1\n",
       "0  1  2\n",
       "1  1  2"
      ]
     },
     "execution_count": 7,
     "metadata": {},
     "output_type": "execute_result"
    }
   ],
   "source": [
    "df"
   ]
  },
  {
   "cell_type": "code",
   "execution_count": 8,
   "metadata": {},
   "outputs": [
    {
     "data": {
      "text/html": [
       "<div>\n",
       "<style scoped>\n",
       "    .dataframe tbody tr th:only-of-type {\n",
       "        vertical-align: middle;\n",
       "    }\n",
       "\n",
       "    .dataframe tbody tr th {\n",
       "        vertical-align: top;\n",
       "    }\n",
       "\n",
       "    .dataframe thead th {\n",
       "        text-align: right;\n",
       "    }\n",
       "</style>\n",
       "<table border=\"1\" class=\"dataframe\">\n",
       "  <thead>\n",
       "    <tr style=\"text-align: right;\">\n",
       "      <th></th>\n",
       "      <th>0</th>\n",
       "      <th>1</th>\n",
       "    </tr>\n",
       "  </thead>\n",
       "  <tbody>\n",
       "    <tr>\n",
       "      <th>0</th>\n",
       "      <td>1</td>\n",
       "      <td>2</td>\n",
       "    </tr>\n",
       "    <tr>\n",
       "      <th>1</th>\n",
       "      <td>1</td>\n",
       "      <td>2</td>\n",
       "    </tr>\n",
       "    <tr>\n",
       "      <th>0</th>\n",
       "      <td>1</td>\n",
       "      <td>2</td>\n",
       "    </tr>\n",
       "    <tr>\n",
       "      <th>1</th>\n",
       "      <td>1</td>\n",
       "      <td>2</td>\n",
       "    </tr>\n",
       "  </tbody>\n",
       "</table>\n",
       "</div>"
      ],
      "text/plain": [
       "   0  1\n",
       "0  1  2\n",
       "1  1  2\n",
       "0  1  2\n",
       "1  1  2"
      ]
     },
     "execution_count": 8,
     "metadata": {},
     "output_type": "execute_result"
    }
   ],
   "source": [
    "pd.concat([df,df])"
   ]
  },
  {
   "cell_type": "code",
   "execution_count": 1,
   "metadata": {},
   "outputs": [],
   "source": [
    "from datetime import datetime"
   ]
  },
  {
   "cell_type": "code",
   "execution_count": 2,
   "metadata": {},
   "outputs": [
    {
     "data": {
      "text/plain": [
       "datetime.datetime(2023, 1, 19, 15, 4, 28, 741951)"
      ]
     },
     "execution_count": 2,
     "metadata": {},
     "output_type": "execute_result"
    }
   ],
   "source": [
    "datetime.now()"
   ]
  },
  {
   "cell_type": "code",
   "execution_count": 11,
   "metadata": {},
   "outputs": [
    {
     "data": {
      "text/plain": [
       "'20230119150620'"
      ]
     },
     "execution_count": 11,
     "metadata": {},
     "output_type": "execute_result"
    }
   ],
   "source": [
    "datetime.now().strftime(\"%Y%m%d%H%M%S\")"
   ]
  }
 ],
 "metadata": {
  "kernelspec": {
   "display_name": "Python 3.8.10 64-bit",
   "language": "python",
   "name": "python3"
  },
  "language_info": {
   "codemirror_mode": {
    "name": "ipython",
    "version": 3
   },
   "file_extension": ".py",
   "mimetype": "text/x-python",
   "name": "python",
   "nbconvert_exporter": "python",
   "pygments_lexer": "ipython3",
   "version": "3.8.10"
  },
  "orig_nbformat": 4,
  "vscode": {
   "interpreter": {
    "hash": "e7370f93d1d0cde622a1f8e1c04877d8463912d04d973331ad4851f04de6915a"
   }
  }
 },
 "nbformat": 4,
 "nbformat_minor": 2
}
